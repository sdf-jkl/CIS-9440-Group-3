{
 "cells": [
  {
   "cell_type": "code",
   "execution_count": 2,
   "id": "f4d1eb50",
   "metadata": {},
   "outputs": [],
   "source": [
    "import numpy as np\n",
    "import pandas as pd\n",
    "import json\n",
    "import requests\n",
    "from azure.storage.blob import BlobServiceClient\n",
    "import pandas as pd\n",
    "from azure.storage.blob import BlobServiceClient\n",
    "from io import StringIO"
   ]
  },
  {
   "cell_type": "code",
   "execution_count": 3,
   "id": "1421b271",
   "metadata": {},
   "outputs": [],
   "source": [
    "def azure_upload_blob(connect_str, container_name, blob_name, data):\n",
    "    blob_service_client = BlobServiceClient.from_connection_string(connect_str)\n",
    "    blob_client = blob_service_client.get_blob_client(container=container_name, blob=blob_name)\n",
    "    blob_client.upload_blob(data, overwrite=True)\n",
    "    print(f\"Uploaded to Azure Blob: {blob_name}\")\n",
    "\n",
    "def azure_download_blob(connect_str, container_name, blob_name):\n",
    "    blob_service_client = BlobServiceClient.from_connection_string(connect_str)\n",
    "    blob_client = blob_service_client.get_blob_client(container=container_name, blob=blob_name)\n",
    "    download_stream = blob_client.download_blob()\n",
    "    return download_stream.readall()"
   ]
  },
  {
   "cell_type": "code",
   "execution_count": 5,
   "id": "8ef3dd5e",
   "metadata": {},
   "outputs": [],
   "source": [
    "# Your Azure Storage connection details\n",
    "config_file_path = \"config.json\"\n",
    "\n",
    "with open(config_file_path,\"r\") as config_file:\n",
    "    config = json.load(config_file)\n",
    "\n",
    "connection_string = config[\"connectionString\"]\n",
    "container_name = \"medicalrawdata\"\n",
    "\n",
    "# Initialize the Azure Blob service client\n",
    "blob_service_client = BlobServiceClient.from_connection_string(connection_string)\n",
    "container_client = blob_service_client.get_container_client(container_name)\n",
    "\n",
    "# Base URL for your data source\n",
    "base_url = 'https://download.cms.gov/openpayments/PGYR22_P011824/OP_DTL_OWNRSHP_PGYR2022_P01182024.csv'"
   ]
  },
  {
   "cell_type": "code",
   "execution_count": 9,
   "id": "2e31ea1a",
   "metadata": {},
   "outputs": [
    {
     "name": "stderr",
     "output_type": "stream",
     "text": [
      "/tmp/ipykernel_16220/4006493426.py:1: DtypeWarning: Columns (2,5,8,9,10,11,18,19,20,26,32,33,34,35,36,50,68,73,75,77,80,97,98,99,100,101,104,105,106,107,108,109,110,111,112,113,116,122,128,129,130,131,133,136,137,138,139,140,141,142,143,144,145,148,154,160,161,165,168,169,170,171,172,173,174,175,176,177,180,186,192,208,214,220,225,226,231,237,238,239) have mixed types. Specify dtype option on import or set low_memory=False.\n",
      "  df = pd.read_csv('https://download.cms.gov/openpayments/PGYR22_P011824/OP_DTL_RSRCH_PGYR2022_P01182024.csv')\n"
     ]
    }
   ],
   "source": [
    "df = pd.read_csv('https://download.cms.gov/openpayments/PGYR22_P011824/OP_DTL_RSRCH_PGYR2022_P01182024.csv')"
   ]
  },
  {
   "cell_type": "code",
   "execution_count": 11,
   "id": "4b05d7de",
   "metadata": {},
   "outputs": [],
   "source": [
    "url = 'https://download.cms.gov/openpayments/PGYR22_P011824/OP_DTL_RSRCH_PGYR2022_P01182024.csv'"
   ]
  },
  {
   "cell_type": "code",
   "execution_count": 12,
   "id": "df293053",
   "metadata": {},
   "outputs": [],
   "source": [
    "import requests"
   ]
  },
  {
   "cell_type": "code",
   "execution_count": 14,
   "id": "5cb05f3f",
   "metadata": {},
   "outputs": [],
   "source": [
    "from azure.storage.blob import BlobServiceClient\n",
    "connection_string = config[\"connectionString\"]\n",
    "container_name = \"medicalrawdata\"\n",
    "blob_service_client = BlobServiceClient.from_connection_string(connection_string)"
   ]
  },
  {
   "cell_type": "code",
   "execution_count": 15,
   "id": "f53073c1",
   "metadata": {},
   "outputs": [],
   "source": [
    "container_name = \"medicalrawdata\"\n",
    "blob_name = 'research2022.csv'\n",
    "\n",
    "# Get a reference to the blob you want to upload to\n",
    "blob_client = blob_service_client.get_blob_client(container=container_name, blob=blob_name)"
   ]
  },
  {
   "cell_type": "code",
   "execution_count": 16,
   "id": "cbf4bfa6",
   "metadata": {},
   "outputs": [
    {
     "name": "stdout",
     "output_type": "stream",
     "text": [
      "File uploaded successfully!\n"
     ]
    }
   ],
   "source": [
    "response = requests.get(url, stream= True)\n",
    "\n",
    "if response.status_code == 200:\n",
    "    blob_client.upload_blob(response.raw, overwrite=True)\n",
    "    print(\"File uploaded successfully!\")\n",
    "else:\n",
    "    print(\"Failed to download the file.\")"
   ]
  },
  {
   "cell_type": "code",
   "execution_count": 10,
   "id": "bf1bc8f6",
   "metadata": {},
   "outputs": [
    {
     "name": "stdout",
     "output_type": "stream",
     "text": [
      "Successfully uploaded 2022researchdata.csv\n"
     ]
    }
   ],
   "source": [
    "csv_data = StringIO()\n",
    "df.to_csv(csv_data, index=False)\n",
    "csv_data.seek(0)\n",
    "\n",
    "# Define the blob name in your container\n",
    "blob_name = f\"2022researchdata.csv\"\n",
    "\n",
    "# Upload the batch to Azure Blob Storage\n",
    "blob_client = container_client.get_blob_client(blob_name)\n",
    "blob_client.upload_blob(csv_data.getvalue(), overwrite=True)\n",
    "print(f\"Successfully uploaded {blob_name}\")"
   ]
  }
 ],
 "metadata": {
  "kernelspec": {
   "display_name": "Python 3 (ipykernel)",
   "language": "python",
   "name": "python3"
  },
  "language_info": {
   "codemirror_mode": {
    "name": "ipython",
    "version": 3
   },
   "file_extension": ".py",
   "mimetype": "text/x-python",
   "name": "python",
   "nbconvert_exporter": "python",
   "pygments_lexer": "ipython3",
   "version": "3.10.12"
  }
 },
 "nbformat": 4,
 "nbformat_minor": 5
}
