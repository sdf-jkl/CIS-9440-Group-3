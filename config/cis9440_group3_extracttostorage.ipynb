{
 "cells": [
  {
   "cell_type": "code",
   "execution_count": 1,
   "id": "f4d1eb50",
   "metadata": {},
   "outputs": [],
   "source": [
    "import numpy as np\n",
    "import pandas as pd\n",
    "import json\n",
    "import requests\n",
    "from azure.storage.blob import BlobServiceClient\n",
    "import pandas as pd\n",
    "from azure.storage.blob import BlobServiceClient\n",
    "from io import StringIO"
   ]
  },
  {
   "cell_type": "code",
   "execution_count": 2,
   "id": "8ef3dd5e",
   "metadata": {},
   "outputs": [],
   "source": [
    "# Your Azure Storage connection details\n",
    "config_file_path = \"config.json\"\n",
    "\n",
    "with open(config_file_path,\"r\") as config_file:\n",
    "    config = json.load(config_file)\n",
    "\n",
    "connection_string = config[\"connectionString\"]\n",
    "container_name = \"medicalrawdata\"\n",
    "\n",
    "# Initialize the Azure Blob service client\n",
    "blob_service_client = BlobServiceClient.from_connection_string(connection_string)\n",
    "container_client = blob_service_client.get_container_client(container_name)"
   ]
  },
  {
   "cell_type": "code",
   "execution_count": 18,
   "id": "2abe8f43",
   "metadata": {},
   "outputs": [],
   "source": [
    "# All Dataset urls\n",
    "dataset_urls = [\n",
    "    'https://download.cms.gov/openpayments/PGYR22_P011824/OP_DTL_GNRL_PGYR2022_P01182024.csv',\n",
    "    'https://download.cms.gov/openpayments/PGYR22_P011824/OP_DTL_OWNRSHP_PGYR2022_P01182024.csv',\n",
    "    'https://download.cms.gov/openpayments/PGYR22_P011824/OP_DTL_RSRCH_PGYR2022_P01182024.csv',\n",
    "    'https://download.cms.gov/openpayments/PGYR21_P011824/OP_DTL_GNRL_PGYR2021_P01182024.csv',\n",
    "    'https://download.cms.gov/openpayments/PGYR21_P011824/OP_DTL_OWNRSHP_PGYR2021_P01182024.csv',\n",
    "    'https://download.cms.gov/openpayments/PGYR21_P011824/OP_DTL_RSRCH_PGYR2021_P01182024.csv',\n",
    "    'https://download.cms.gov/openpayments/PGYR20_P011824/OP_DTL_GNRL_PGYR2020_P01182024.csv',\n",
    "    'https://download.cms.gov/openpayments/PGYR20_P011824/OP_DTL_OWNRSHP_PGYR2020_P01182024.csv',\n",
    "    'https://download.cms.gov/openpayments/PGYR20_P011824/OP_DTL_RSRCH_PGYR2020_P01182024.csv',\n",
    "    'https://download.cms.gov/openpayments/PGYR19_P011824/OP_DTL_GNRL_PGYR2019_P01182024.csv',\n",
    "    'https://download.cms.gov/openpayments/PGYR19_P011824/OP_DTL_OWNRSHP_PGYR2019_P01182024.csv',\n",
    "    'https://download.cms.gov/openpayments/PGYR19_P011824/OP_DTL_RSRCH_PGYR2019_P01182024.csv',\n",
    "    'https://download.cms.gov/openpayments/PGYR18_P011824/OP_DTL_GNRL_PGYR2018_P01182024.csv',\n",
    "    'https://download.cms.gov/openpayments/PGYR18_P011824/OP_DTL_OWNRSHP_PGYR2018_P01182024.csv',\n",
    "    'https://download.cms.gov/openpayments/PGYR18_P011824/OP_DTL_RSRCH_PGYR2018_P01182024.csv',\n",
    "    'https://download.cms.gov/openpayments/PGYR17_P011824/OP_DTL_GNRL_PGYR2017_P01182024.csv',\n",
    "    'https://download.cms.gov/openpayments/PGYR17_P011824/OP_DTL_OWNRSHP_PGYR2017_P01182024.csv',\n",
    "    'https://download.cms.gov/openpayments/PGYR17_P011824/OP_DTL_RSRCH_PGYR2017_P01182024.csv'\n",
    "]"
   ]
  },
  {
   "cell_type": "code",
   "execution_count": 21,
   "id": "cf93c8f0",
   "metadata": {},
   "outputs": [
    {
     "name": "stdout",
     "output_type": "stream",
     "text": [
      "OP_DTL_GNRL_PGYR2022_P01182024.csv\n",
      "OP_DTL_OWNRSHP_PGYR2022_P01182024.csv\n",
      "OP_DTL_RSRCH_PGYR2022_P01182024.csv\n",
      "OP_DTL_GNRL_PGYR2021_P01182024.csv\n",
      "OP_DTL_OWNRSHP_PGYR2021_P01182024.csv\n",
      "OP_DTL_RSRCH_PGYR2021_P01182024.csv\n",
      "OP_DTL_GNRL_PGYR2020_P01182024.csv\n",
      "OP_DTL_OWNRSHP_PGYR2020_P01182024.csv\n",
      "OP_DTL_RSRCH_PGYR2020_P01182024.csv\n",
      "OP_DTL_GNRL_PGYR2019_P01182024.csv\n",
      "OP_DTL_OWNRSHP_PGYR2019_P01182024.csv\n",
      "OP_DTL_RSRCH_PGYR2019_P01182024.csv\n",
      "OP_DTL_GNRL_PGYR2018_P01182024.csv\n",
      "OP_DTL_OWNRSHP_PGYR2018_P01182024.csv\n",
      "OP_DTL_RSRCH_PGYR2018_P01182024.csv\n",
      "OP_DTL_GNRL_PGYR2017_P01182024.csv\n",
      "OP_DTL_OWNRSHP_PGYR2017_P01182024.csv\n",
      "OP_DTL_RSRCH_PGYR2017_P01182024.csv\n"
     ]
    }
   ],
   "source": [
    "# Base URL for your data source\n",
    "for url in dataset_urls:\n",
    "    blob_name = url.split(sep='/')[5]\n",
    "    print(blob_name)"
   ]
  },
  {
   "cell_type": "code",
   "execution_count": 23,
   "id": "cbf4bfa6",
   "metadata": {},
   "outputs": [],
   "source": [
    "def upload_csv(container_name, url):\n",
    "    blob_name = url.split(sep='/')[5]\n",
    "    blob_client = blob_service_client.get_blob_client(container=container_name, blob=blob_name)\n",
    "\n",
    "    response = requests.get(url, stream= True)\n",
    "    print(f'Start uploading {blob_name}')\n",
    "    if response.status_code == 200:\n",
    "        blob_client.upload_blob(response.raw, overwrite=True)\n",
    "        print(\"File uploaded successfully!\")\n",
    "    else:\n",
    "        print(\"Failed to download the file.\")"
   ]
  },
  {
   "cell_type": "code",
   "execution_count": 25,
   "id": "71b2f49d",
   "metadata": {},
   "outputs": [
    {
     "name": "stdout",
     "output_type": "stream",
     "text": [
      "Start uploading OP_DTL_GNRL_PGYR2022_P01182024.csv\n",
      "File uploaded successfully!\n",
      "Start uploading OP_DTL_OWNRSHP_PGYR2022_P01182024.csv\n",
      "File uploaded successfully!\n",
      "Start uploading OP_DTL_RSRCH_PGYR2022_P01182024.csv\n",
      "File uploaded successfully!\n",
      "Start uploading OP_DTL_GNRL_PGYR2021_P01182024.csv\n",
      "File uploaded successfully!\n",
      "Start uploading OP_DTL_OWNRSHP_PGYR2021_P01182024.csv\n",
      "File uploaded successfully!\n",
      "Start uploading OP_DTL_RSRCH_PGYR2021_P01182024.csv\n",
      "File uploaded successfully!\n",
      "Start uploading OP_DTL_GNRL_PGYR2020_P01182024.csv\n",
      "File uploaded successfully!\n",
      "Start uploading OP_DTL_OWNRSHP_PGYR2020_P01182024.csv\n",
      "File uploaded successfully!\n",
      "Start uploading OP_DTL_RSRCH_PGYR2020_P01182024.csv\n",
      "File uploaded successfully!\n",
      "Start uploading OP_DTL_GNRL_PGYR2019_P01182024.csv\n",
      "File uploaded successfully!\n",
      "Start uploading OP_DTL_OWNRSHP_PGYR2019_P01182024.csv\n",
      "File uploaded successfully!\n",
      "Start uploading OP_DTL_RSRCH_PGYR2019_P01182024.csv\n",
      "File uploaded successfully!\n",
      "Start uploading OP_DTL_GNRL_PGYR2018_P01182024.csv\n",
      "File uploaded successfully!\n",
      "Start uploading OP_DTL_OWNRSHP_PGYR2018_P01182024.csv\n",
      "File uploaded successfully!\n",
      "Start uploading OP_DTL_RSRCH_PGYR2018_P01182024.csv\n",
      "File uploaded successfully!\n",
      "Start uploading OP_DTL_GNRL_PGYR2017_P01182024.csv\n",
      "File uploaded successfully!\n",
      "Start uploading OP_DTL_OWNRSHP_PGYR2017_P01182024.csv\n",
      "File uploaded successfully!\n",
      "Start uploading OP_DTL_RSRCH_PGYR2017_P01182024.csv\n",
      "File uploaded successfully!\n"
     ]
    }
   ],
   "source": [
    "for url in dataset_urls:\n",
    "    upload_csv(container_name, url)"
   ]
  }
 ],
 "metadata": {
  "kernelspec": {
   "display_name": "Python 3 (ipykernel)",
   "language": "python",
   "name": "python3"
  },
  "language_info": {
   "codemirror_mode": {
    "name": "ipython",
    "version": 3
   },
   "file_extension": ".py",
   "mimetype": "text/x-python",
   "name": "python",
   "nbconvert_exporter": "python",
   "pygments_lexer": "ipython3",
   "version": "3.10.12"
  }
 },
 "nbformat": 4,
 "nbformat_minor": 5
}
